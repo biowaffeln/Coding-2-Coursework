{
 "cells": [
  {
   "cell_type": "code",
   "execution_count": 1,
   "metadata": {},
   "outputs": [],
   "source": [
    "import requests\n",
    "import re"
   ]
  },
  {
   "cell_type": "code",
   "execution_count": 2,
   "metadata": {},
   "outputs": [],
   "source": [
    "r = requests.get(\"http://www.pythonchallenge.com/pc/def/equality.html\")\n",
    "html = r.text"
   ]
  },
  {
   "cell_type": "code",
   "execution_count": 3,
   "metadata": {},
   "outputs": [],
   "source": [
    "html = \"\".join(html.splitlines())\n",
    "text = re.findall('<!--(.*?)-->', html)[0]"
   ]
  },
  {
   "cell_type": "code",
   "execution_count": 4,
   "metadata": {},
   "outputs": [
    {
     "data": {
      "text/plain": [
       "'linkedlist'"
      ]
     },
     "execution_count": 4,
     "metadata": {},
     "output_type": "execute_result"
    }
   ],
   "source": [
    "solution = \"\"\n",
    "for i, letter in enumerate(text):\n",
    "    if(text[i-4].islower() and\n",
    "       text[i-3].isupper() and\n",
    "       text[i-2].isupper() and\n",
    "       text[i-1].isupper() and\n",
    "       letter   .islower() and\n",
    "       text[i+1].isupper() and\n",
    "       text[i+2].isupper() and\n",
    "       text[i+3].isupper() and\n",
    "       text[i+4].islower()\n",
    "      ):\n",
    "        solution += letter\n",
    "\n",
    "solution"
   ]
  }
 ],
 "metadata": {
  "kernelspec": {
   "display_name": "Python 3",
   "language": "python",
   "name": "python3"
  },
  "language_info": {
   "codemirror_mode": {
    "name": "ipython",
    "version": 3
   },
   "file_extension": ".py",
   "mimetype": "text/x-python",
   "name": "python",
   "nbconvert_exporter": "python",
   "pygments_lexer": "ipython3",
   "version": "3.7.3"
  }
 },
 "nbformat": 4,
 "nbformat_minor": 2
}
