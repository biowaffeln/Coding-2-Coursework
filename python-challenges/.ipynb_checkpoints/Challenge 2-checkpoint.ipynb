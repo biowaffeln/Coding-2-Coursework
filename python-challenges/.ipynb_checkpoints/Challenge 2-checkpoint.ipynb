{
 "cells": [
  {
   "cell_type": "code",
   "execution_count": 1,
   "metadata": {},
   "outputs": [],
   "source": [
    "import requests\n",
    "import re"
   ]
  },
  {
   "cell_type": "code",
   "execution_count": 2,
   "metadata": {},
   "outputs": [],
   "source": [
    "r = requests.get(\"http://www.pythonchallenge.com/pc/def/ocr.html\")\n",
    "html = r.text"
   ]
  },
  {
   "cell_type": "code",
   "execution_count": 3,
   "metadata": {},
   "outputs": [],
   "source": [
    "html = \"\".join(html.splitlines())\n",
    "text = re.findall('<!--(.*?)-->', html)[1]"
   ]
  },
  {
   "cell_type": "code",
   "execution_count": 4,
   "metadata": {},
   "outputs": [
    {
     "data": {
      "text/plain": [
       "{'%': 6103,\n",
       " '$': 6045,\n",
       " '@': 6156,\n",
       " '_': 6111,\n",
       " '^': 6029,\n",
       " '#': 6114,\n",
       " ')': 6185,\n",
       " '&': 6042,\n",
       " '!': 6078,\n",
       " '+': 6065,\n",
       " ']': 6151,\n",
       " '*': 6033,\n",
       " '}': 6104,\n",
       " '[': 6107,\n",
       " '(': 6153,\n",
       " '{': 6045,\n",
       " 'e': 0,\n",
       " 'q': 0,\n",
       " 'u': 0,\n",
       " 'a': 0,\n",
       " 'l': 0,\n",
       " 'i': 0,\n",
       " 't': 0,\n",
       " 'y': 0}"
      ]
     },
     "execution_count": 4,
     "metadata": {},
     "output_type": "execute_result"
    }
   ],
   "source": [
    "letters = {}\n",
    "for char in text:\n",
    "    if char in letters:\n",
    "        letters[char] += 1\n",
    "    else:\n",
    "        letters[char] = 0\n",
    "        \n",
    "letters"
   ]
  }
 ],
 "metadata": {
  "kernelspec": {
   "display_name": "Python 3",
   "language": "python",
   "name": "python3"
  },
  "language_info": {
   "codemirror_mode": {
    "name": "ipython",
    "version": 3
   },
   "file_extension": ".py",
   "mimetype": "text/x-python",
   "name": "python",
   "nbconvert_exporter": "python",
   "pygments_lexer": "ipython3",
   "version": "3.7.3"
  }
 },
 "nbformat": 4,
 "nbformat_minor": 2
}
